{
 "cells": [
  {
   "cell_type": "markdown",
   "metadata": {},
   "source": [
    "# LET'S GET READY TO RUMBLE!!!"
   ]
  },
  {
   "cell_type": "code",
   "execution_count": 18,
   "metadata": {},
   "outputs": [],
   "source": [
    "from IPython.display import HTML\n",
    "import matplotlib.animation as animation\n",
    "import matplotlib.pyplot as plt\n",
    "import numpy as np\n",
    "import os\n",
    "import torch\n",
    "import torch.functional as F\n",
    "import torch.nn as nn\n",
    "import torchvision\n",
    "import torchvision.transforms as tvtransforms\n",
    "import torchvision.utils as vutils"
   ]
  },
  {
   "cell_type": "code",
   "execution_count": 19,
   "metadata": {},
   "outputs": [],
   "source": [
    "# Batch size\n",
    "batch_size = 64\n",
    "# number of epochs\n",
    "epochs = 10\n",
    "# learning rate\n",
    "alpha = 0.0002\n",
    "# beta1\n",
    "beta1 = 0.5\n",
    "# beta2\n",
    "beta2 = 0.999\n",
    "# Z vector size\n",
    "nz = 100\n",
    "\n",
    "# Channels, H, W\n",
    "img_shape = (1, 28, 28)\n",
    "# Take advantage of the computer's GPU, if available\n",
    "device = torch.device(\"cuda:0\" if torch.cuda.is_available() else \"cpu\")"
   ]
  },
  {
   "cell_type": "code",
   "execution_count": 20,
   "metadata": {},
   "outputs": [],
   "source": [
    "os.makedirs(\"data/mnist\", exist_ok=True)\n",
    "dataloader = torch.utils.data.DataLoader(\n",
    "    torchvision.datasets.MNIST(\n",
    "        \"data/mnist\",\n",
    "        train=True,\n",
    "        download=True,\n",
    "        transform=tvtransforms.Compose(\n",
    "            [tvtransforms.ToTensor(), tvtransforms.Normalize([0.5], [0.5])]\n",
    "        ),\n",
    "    ),\n",
    "    batch_size=batch_size,\n",
    "    drop_last=True,\n",
    "    num_workers=2,\n",
    "    shuffle=True,\n",
    ")"
   ]
  },
  {
   "cell_type": "markdown",
   "metadata": {},
   "source": [
    "First, we need to create our loss functions. From the first paper, the discriminator loss from Algorithm 1, which we want to maximize, is:\n",
    "\n",
    "$\\mathcal{L}_d = \\frac{1}{m}\\sum_{i=1}^m\\left(\\log(D(x^{(i)})) + \\log(1 - D(G(z^{(i)})))\\right)$.\n",
    "\n",
    "The generator loss, which we want to minimize, is\n",
    "\n",
    "$\\mathcal{L}_g = \\frac{1}{m}\\sum_{i=1}^m\\log(1 - D(G(z^{(i)})))$.\n",
    "\n",
    "Unfortunately, this generator loss function can be troublesome in practice. An alternative the authors suggest is\n",
    "\n",
    "$\\mathcal{L}_g = \\frac{1}{m}\\sum_{i=1}^m\\log(D(G(z^{(i)})))$.\n",
    "\n",
    "This function then needs to be maximized."
   ]
  },
  {
   "cell_type": "code",
   "execution_count": 21,
   "metadata": {},
   "outputs": [],
   "source": [
    "# Some handy functions:\n",
    "# torch.mean()\n",
    "# torch.log()\n",
    "\n",
    "def discriminator_loss(D_of_real, D_of_fake):\n",
    "    return torch.mean(torch.log(D_of_real) + torch.log(1 - D_of_fake))\n",
    "\n",
    "\n",
    "def generator_loss(D_of_fake):\n",
    "    return torch.mean(torch.log(1 - D_of_fake))"
   ]
  },
  {
   "cell_type": "markdown",
   "metadata": {},
   "source": [
    "## IN THE G CORNER...\n",
    "A simple generator can be constructed from sequenctial, fully connected layers."
   ]
  },
  {
   "cell_type": "code",
   "execution_count": 22,
   "metadata": {},
   "outputs": [],
   "source": [
    "class Generator(nn.Module):\n",
    "    def __init__(self):\n",
    "        super(Generator, self).__init__()\n",
    "        \n",
    "        # Calculate the size of the final output vector\n",
    "        flattened_output_size = 1\n",
    "        for dim in img_shape:\n",
    "            flattened_output_size *= dim\n",
    "\n",
    "        # A sequence of layers that are applied to an input\n",
    "        self.model = nn.Sequential(\n",
    "            # Layer 1\n",
    "            # TODO: what should the first network input size be?\n",
    "            nn.Linear(nz, 128),\n",
    "            nn.LeakyReLU(0.2, inplace=True),\n",
    "            \n",
    "            # Layer 2\n",
    "            # Fully connected layer with input size 128, output size 256\n",
    "            nn.Linear(128, 256),\n",
    "            nn.BatchNorm1d(256),\n",
    "            nn.LeakyReLU(0.2, inplace=True),\n",
    "            \n",
    "            # Layer 3\n",
    "            # TODO: add a fully connected layer with input size 256 and output 512\n",
    "            # TODO: add batchnorm\n",
    "            # TODO: add activation\n",
    "            nn.Linear(256,512),\n",
    "            nn.BatchNorm1d(512),\n",
    "            nn.LeakyReLU(0.2, inplace=True),\n",
    "            \n",
    "            # Layer 4\n",
    "            # TODO: add a fully connected layer with input size 512 and output 1024\n",
    "            # TODO: add batchnorm\n",
    "            # TODO: add activation\n",
    "            \n",
    "            nn.Linear(512,1024),\n",
    "            nn.BatchNorm1d(1024),\n",
    "            nn.LeakyReLU(0.2, inplace=True),\n",
    "            \n",
    "            \n",
    "            # Final Layer\n",
    "            # Map to desired image size\n",
    "            nn.Linear(1024, flattened_output_size),\n",
    "            nn.Tanh(),\n",
    "        )\n",
    "        \n",
    "    def forward(self, z):\n",
    "        # img is flat and needs to be reshaped\n",
    "        img = self.model(z)\n",
    "        # reshape to (batch_size, channels, H, W)\n",
    "        img = img.view(img.size(0), *img_shape)\n",
    "        return img"
   ]
  },
  {
   "cell_type": "markdown",
   "metadata": {},
   "source": [
    "## AND IN THE D CORNER...\n",
    "The descriminator can also be constructed from sequenctial linear layers. We need to down scale the input to a single value for classification."
   ]
  },
  {
   "cell_type": "code",
   "execution_count": 23,
   "metadata": {},
   "outputs": [],
   "source": [
    "class Discriminator(nn.Module):\n",
    "    def __init__(self):\n",
    "        super(Discriminator, self).__init__()\n",
    "        \n",
    "        self.model = nn.Sequential(\n",
    "            nn.Linear(int(np.prod(img_shape)), 512),\n",
    "            nn.LeakyReLU(0.2, inplace=True),\n",
    "\n",
    "            # TODO: add fully connected layer with input size 512 and output size 256\n",
    "            # TODO: add batch norm\n",
    "            # TODO: add activation\n",
    "            \n",
    "            nn.Linear(512,256),\n",
    "            nn.BatchNorm1d(256),\n",
    "            \n",
    "            nn.Linear(256, 1),\n",
    "            nn.Sigmoid()\n",
    "        )\n",
    "    \n",
    "    def forward(self, img):\n",
    "        # Flatten the image and feed into model\n",
    "        return self.model(img.view(img.size(0), -1))"
   ]
  },
  {
   "cell_type": "code",
   "execution_count": 24,
   "metadata": {},
   "outputs": [
    {
     "name": "stdout",
     "output_type": "stream",
     "text": [
      "Generator(\n",
      "  (model): Sequential(\n",
      "    (0): Linear(in_features=100, out_features=128, bias=True)\n",
      "    (1): LeakyReLU(negative_slope=0.2, inplace=True)\n",
      "    (2): Linear(in_features=128, out_features=256, bias=True)\n",
      "    (3): BatchNorm1d(256, eps=1e-05, momentum=0.1, affine=True, track_running_stats=True)\n",
      "    (4): LeakyReLU(negative_slope=0.2, inplace=True)\n",
      "    (5): Linear(in_features=256, out_features=512, bias=True)\n",
      "    (6): BatchNorm1d(512, eps=1e-05, momentum=0.1, affine=True, track_running_stats=True)\n",
      "    (7): LeakyReLU(negative_slope=0.2, inplace=True)\n",
      "    (8): Linear(in_features=512, out_features=1024, bias=True)\n",
      "    (9): BatchNorm1d(1024, eps=1e-05, momentum=0.1, affine=True, track_running_stats=True)\n",
      "    (10): LeakyReLU(negative_slope=0.2, inplace=True)\n",
      "    (11): Linear(in_features=1024, out_features=784, bias=True)\n",
      "    (12): Tanh()\n",
      "  )\n",
      ")\n",
      "Discriminator(\n",
      "  (model): Sequential(\n",
      "    (0): Linear(in_features=784, out_features=512, bias=True)\n",
      "    (1): LeakyReLU(negative_slope=0.2, inplace=True)\n",
      "    (2): Linear(in_features=512, out_features=256, bias=True)\n",
      "    (3): BatchNorm1d(256, eps=1e-05, momentum=0.1, affine=True, track_running_stats=True)\n",
      "    (4): Linear(in_features=256, out_features=1, bias=True)\n",
      "    (5): Sigmoid()\n",
      "  )\n",
      ")\n"
     ]
    }
   ],
   "source": [
    "# Create generator and move it to the GPU, if available\n",
    "gen_model = Generator().to(device)\n",
    "print(gen_model)\n",
    "\n",
    "# Create discriminator and move it to the GPU, if available\n",
    "disc_model = Discriminator().to(device)\n",
    "print(disc_model)\n",
    "\n",
    "# Initialize optimizers\n",
    "gen_opt = torch.optim.Adam(gen_model.parameters(), lr=alpha, betas=(beta1, beta2))\n",
    "disc_opt = torch.optim.Adam(disc_model.parameters(), lr=alpha, betas=(beta1, beta2))"
   ]
  },
  {
   "cell_type": "markdown",
   "metadata": {},
   "source": [
    "# FIGHT!"
   ]
  },
  {
   "cell_type": "code",
   "execution_count": 25,
   "metadata": {
    "scrolled": true
   },
   "outputs": [
    {
     "name": "stdout",
     "output_type": "stream",
     "text": [
      "[0/10][0/937]\n",
      "[0/10][100/937]\n",
      "[0/10][200/937]\n",
      "[0/10][300/937]\n",
      "[0/10][400/937]\n",
      "[0/10][500/937]\n",
      "[0/10][600/937]\n",
      "[0/10][700/937]\n",
      "[0/10][800/937]\n",
      "[0/10][900/937]\n",
      "[1/10][0/937]\n",
      "[1/10][100/937]\n",
      "[1/10][200/937]\n",
      "[1/10][300/937]\n",
      "[1/10][400/937]\n",
      "[1/10][500/937]\n",
      "[1/10][600/937]\n",
      "[1/10][700/937]\n",
      "[1/10][800/937]\n",
      "[1/10][900/937]\n",
      "[2/10][0/937]\n",
      "[2/10][100/937]\n",
      "[2/10][200/937]\n",
      "[2/10][300/937]\n",
      "[2/10][400/937]\n",
      "[2/10][500/937]\n",
      "[2/10][600/937]\n",
      "[2/10][700/937]\n",
      "[2/10][800/937]\n",
      "[2/10][900/937]\n",
      "[3/10][0/937]\n",
      "[3/10][100/937]\n",
      "[3/10][200/937]\n",
      "[3/10][300/937]\n",
      "[3/10][400/937]\n",
      "[3/10][500/937]\n",
      "[3/10][600/937]\n",
      "[3/10][700/937]\n",
      "[3/10][800/937]\n",
      "[3/10][900/937]\n",
      "[4/10][0/937]\n",
      "[4/10][100/937]\n",
      "[4/10][200/937]\n",
      "[4/10][300/937]\n",
      "[4/10][400/937]\n",
      "[4/10][500/937]\n",
      "[4/10][600/937]\n",
      "[4/10][700/937]\n"
     ]
    },
    {
     "ename": "KeyboardInterrupt",
     "evalue": "",
     "output_type": "error",
     "traceback": [
      "\u001b[0;31m---------------------------------------------------------------------------\u001b[0m",
      "\u001b[0;31mKeyboardInterrupt\u001b[0m                         Traceback (most recent call last)",
      "\u001b[0;32m<ipython-input-25-ee8eb514ba6b>\u001b[0m in \u001b[0;36m<module>\u001b[0;34m\u001b[0m\n\u001b[1;32m     35\u001b[0m         \u001b[0mD_fake\u001b[0m \u001b[0;34m=\u001b[0m \u001b[0mdisc_model\u001b[0m\u001b[0;34m(\u001b[0m\u001b[0mfake_imgs\u001b[0m\u001b[0;34m)\u001b[0m\u001b[0;34m\u001b[0m\u001b[0;34m\u001b[0m\u001b[0m\n\u001b[1;32m     36\u001b[0m         \u001b[0mgen_err\u001b[0m \u001b[0;34m=\u001b[0m \u001b[0mgenerator_loss\u001b[0m\u001b[0;34m(\u001b[0m\u001b[0mD_fake\u001b[0m\u001b[0;34m)\u001b[0m\u001b[0;34m\u001b[0m\u001b[0;34m\u001b[0m\u001b[0m\n\u001b[0;32m---> 37\u001b[0;31m         \u001b[0mgen_err\u001b[0m\u001b[0;34m.\u001b[0m\u001b[0mbackward\u001b[0m\u001b[0;34m(\u001b[0m\u001b[0;34m)\u001b[0m\u001b[0;34m\u001b[0m\u001b[0;34m\u001b[0m\u001b[0m\n\u001b[0m\u001b[1;32m     38\u001b[0m         \u001b[0mgen_opt\u001b[0m\u001b[0;34m.\u001b[0m\u001b[0mstep\u001b[0m\u001b[0;34m(\u001b[0m\u001b[0;34m)\u001b[0m\u001b[0;34m\u001b[0m\u001b[0;34m\u001b[0m\u001b[0m\n\u001b[1;32m     39\u001b[0m \u001b[0;34m\u001b[0m\u001b[0m\n",
      "\u001b[0;32m~/anaconda3/lib/python3.7/site-packages/torch/tensor.py\u001b[0m in \u001b[0;36mbackward\u001b[0;34m(self, gradient, retain_graph, create_graph)\u001b[0m\n\u001b[1;32m    193\u001b[0m                 \u001b[0mproducts\u001b[0m\u001b[0;34m.\u001b[0m \u001b[0mDefaults\u001b[0m \u001b[0mto\u001b[0m\u001b[0;31m \u001b[0m\u001b[0;31m`\u001b[0m\u001b[0;31m`\u001b[0m\u001b[0;32mFalse\u001b[0m\u001b[0;31m`\u001b[0m\u001b[0;31m`\u001b[0m\u001b[0;34m.\u001b[0m\u001b[0;34m\u001b[0m\u001b[0;34m\u001b[0m\u001b[0m\n\u001b[1;32m    194\u001b[0m         \"\"\"\n\u001b[0;32m--> 195\u001b[0;31m         \u001b[0mtorch\u001b[0m\u001b[0;34m.\u001b[0m\u001b[0mautograd\u001b[0m\u001b[0;34m.\u001b[0m\u001b[0mbackward\u001b[0m\u001b[0;34m(\u001b[0m\u001b[0mself\u001b[0m\u001b[0;34m,\u001b[0m \u001b[0mgradient\u001b[0m\u001b[0;34m,\u001b[0m \u001b[0mretain_graph\u001b[0m\u001b[0;34m,\u001b[0m \u001b[0mcreate_graph\u001b[0m\u001b[0;34m)\u001b[0m\u001b[0;34m\u001b[0m\u001b[0;34m\u001b[0m\u001b[0m\n\u001b[0m\u001b[1;32m    196\u001b[0m \u001b[0;34m\u001b[0m\u001b[0m\n\u001b[1;32m    197\u001b[0m     \u001b[0;32mdef\u001b[0m \u001b[0mregister_hook\u001b[0m\u001b[0;34m(\u001b[0m\u001b[0mself\u001b[0m\u001b[0;34m,\u001b[0m \u001b[0mhook\u001b[0m\u001b[0;34m)\u001b[0m\u001b[0;34m:\u001b[0m\u001b[0;34m\u001b[0m\u001b[0;34m\u001b[0m\u001b[0m\n",
      "\u001b[0;32m~/anaconda3/lib/python3.7/site-packages/torch/autograd/__init__.py\u001b[0m in \u001b[0;36mbackward\u001b[0;34m(tensors, grad_tensors, retain_graph, create_graph, grad_variables)\u001b[0m\n\u001b[1;32m     97\u001b[0m     Variable._execution_engine.run_backward(\n\u001b[1;32m     98\u001b[0m         \u001b[0mtensors\u001b[0m\u001b[0;34m,\u001b[0m \u001b[0mgrad_tensors\u001b[0m\u001b[0;34m,\u001b[0m \u001b[0mretain_graph\u001b[0m\u001b[0;34m,\u001b[0m \u001b[0mcreate_graph\u001b[0m\u001b[0;34m,\u001b[0m\u001b[0;34m\u001b[0m\u001b[0;34m\u001b[0m\u001b[0m\n\u001b[0;32m---> 99\u001b[0;31m         allow_unreachable=True)  # allow_unreachable flag\n\u001b[0m\u001b[1;32m    100\u001b[0m \u001b[0;34m\u001b[0m\u001b[0m\n\u001b[1;32m    101\u001b[0m \u001b[0;34m\u001b[0m\u001b[0m\n",
      "\u001b[0;31mKeyboardInterrupt\u001b[0m: "
     ]
    }
   ],
   "source": [
    "g_losses = []\n",
    "d_losses = []\n",
    "fixed_img_list = []\n",
    "# A fixed set of z vectors to periodically generate images from\n",
    "fixed_z_vecs = torch.randn(64, nz, device=device)\n",
    "iters = 0\n",
    "\n",
    "for epoch in range(epochs):\n",
    "    for i, (real_imgs, _) in enumerate(dataloader, 0):\n",
    "        # Move the images to the GPU memory, if possible\n",
    "        real_imgs = real_imgs.to(device)\n",
    "        \n",
    "        # Run D on real images\n",
    "        disc_model.zero_grad()\n",
    "        #\n",
    "        # TODO: compute D(x)\n",
    "        #\n",
    "        D_real = disc_model.forward(real_imgs)\n",
    "               \n",
    "        # Run D on generated fake images\n",
    "        z_sample = torch.randn(batch_size, nz, device=device)\n",
    "        #\n",
    "        # TODO: compute G(z)\n",
    "        #\n",
    "        fake_imgs = gen_model.forward(z_sample)\n",
    "        D_fake = disc_model(fake_imgs.detach())\n",
    "\n",
    "        # Compute D's loss and update D's weights\n",
    "        disc_err = discriminator_loss(D_real, D_fake)\n",
    "        disc_err.backward()\n",
    "        disc_opt.step()\n",
    "        \n",
    "        # Update G by maximizing log(D(G(z)))\n",
    "        gen_model.zero_grad()\n",
    "        D_fake = disc_model(fake_imgs)\n",
    "        gen_err = generator_loss(D_fake)\n",
    "        gen_err.backward()\n",
    "        gen_opt.step()\n",
    "        \n",
    "        if i % 100 == 0:\n",
    "            print(\"[{}/{}][{}/{}]\".format(epoch, epochs, i, len(dataloader)) )\n",
    "        if (iters % 500 == 0) or ((epoch == epochs - 1) and (i == len(dataloader) - 1)):\n",
    "            # Periodically capture generated samples using the same z vectors\n",
    "            with torch.no_grad():\n",
    "                fake = gen_model(fixed_z_vecs).detach().cpu()\n",
    "            fixed_img_list.append(vutils.make_grid(fake, padding=2, normalize=True))\n",
    "\n",
    "        g_losses.append(gen_err.item())\n",
    "        d_losses.append(disc_err.item())\n",
    "        iters += 1"
   ]
  },
  {
   "cell_type": "code",
   "execution_count": null,
   "metadata": {},
   "outputs": [],
   "source": [
    "plt.figure(figsize=(10, 5))\n",
    "plt.title(\"Generator and Discriminator Loss During Training\")\n",
    "plt.plot(g_losses,label=\"G\")\n",
    "plt.plot(d_losses,label=\"D\")\n",
    "plt.xlabel(\"iterations\")\n",
    "plt.ylabel(\"Loss\")\n",
    "plt.legend()\n",
    "plt.show()"
   ]
  },
  {
   "cell_type": "code",
   "execution_count": null,
   "metadata": {},
   "outputs": [],
   "source": [
    "# Create slide show from fixed z images\n",
    "fig = plt.figure(figsize=(8, 8))\n",
    "plt.axis(\"off\")\n",
    "ims = [\n",
    "    [plt.imshow(np.transpose(i, (1, 2, 0)), animated=True)]\n",
    "    for i in fixed_img_list\n",
    "]\n",
    "ani = animation.ArtistAnimation(fig, ims, interval=1000, repeat_delay=1000, blit=True)\n",
    "\n",
    "HTML(ani.to_jshtml())"
   ]
  },
  {
   "cell_type": "markdown",
   "metadata": {},
   "source": [
    "## Questions\n",
    "1. Does making the generator more complex (adding layers) improve the generated images?\n",
    "2. Does making the discriminator more complex or smarter force the generator to improve as well?\n",
    "3. Can you get the original generator loss function (i.e. log(1 - D(G(z)))) to work? Perhaps transition to it after some number of epochs.\n",
    "4. Bonus: Can you refactor the models to use convolution instead of fully connected layers?"
   ]
  },
  {
   "cell_type": "markdown",
   "metadata": {},
   "source": [
    "## Links\n",
    "* [Link](https://pytorch.org/tutorials/beginner/dcgan_faces_tutorial.html): pytorch tutorial for DCGAN using a face dataset\n",
    "* [Link](https://junyanz.github.io/CycleGAN/): the CycleGAN website"
   ]
  }
 ],
 "metadata": {
  "kernelspec": {
   "display_name": "Python 3",
   "language": "python",
   "name": "python3"
  },
  "language_info": {
   "codemirror_mode": {
    "name": "ipython",
    "version": 3
   },
   "file_extension": ".py",
   "mimetype": "text/x-python",
   "name": "python",
   "nbconvert_exporter": "python",
   "pygments_lexer": "ipython3",
   "version": "3.7.6"
  }
 },
 "nbformat": 4,
 "nbformat_minor": 4
}
